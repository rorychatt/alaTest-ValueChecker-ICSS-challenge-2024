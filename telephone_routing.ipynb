{
 "cells": [
  {
   "cell_type": "code",
   "execution_count": 20,
   "metadata": {},
   "outputs": [],
   "source": [
    "# Import necessary libraries, install them if needed\n",
    "# For compiling, you will need Jupyter pip package installed.\n",
    "\n",
    "from sample_data import price_lists\n",
    "from typing import Dict, Tuple, Optional\n",
    "from functools import lru_cache\n",
    "import json\n",
    "import tests_dataset"
   ]
  },
  {
   "cell_type": "markdown",
   "metadata": {},
   "source": [
    "This function cleans the price lists by removing any corrupt data entries, such as invalid prices or prefixes. It ensures that only valid data is processed in subsequent steps."
   ]
  },
  {
   "cell_type": "code",
   "execution_count": 21,
   "metadata": {},
   "outputs": [],
   "source": [
    "def clean_price_lists(price_lists: Dict[str, Dict[str, float]]) -> Dict[str, Dict[str, float]]:\n",
    "    \"\"\"\n",
    "    Clean the price lists by removing any corrupt data entries.\n",
    "    \n",
    "    Args:\n",
    "    price_lists (dict): A dictionary containing the price lists of operators.\n",
    "    \n",
    "    Returns:\n",
    "    dict: A cleaned dictionary with valid price entries.\n",
    "    \"\"\"\n",
    "    cleaned_lists = {}\n",
    "    for operator, prices in price_lists.items():\n",
    "        cleaned_prices = {}\n",
    "        for prefix, price in prices.items():\n",
    "            if isinstance(price, (int, float)) and price >= 0 and prefix.replace('.', '', 1).isdigit():\n",
    "                cleaned_prices[prefix] = price\n",
    "            else:\n",
    "                print(f\"Removed invalid entry from {operator}: prefix={prefix}, price={price}\")\n",
    "        cleaned_lists[operator] = cleaned_prices\n",
    "    return cleaned_lists"
   ]
  },
  {
   "cell_type": "markdown",
   "metadata": {},
   "source": [
    "This function preprocesses the cleaned price lists to allow for faster lookups. It ensures that only valid prefixes and prices are included in the preprocessed data."
   ]
  },
  {
   "cell_type": "code",
   "execution_count": 22,
   "metadata": {},
   "outputs": [],
   "source": [
    "def preprocess_price_lists(price_lists: Dict[str, Dict[str, float]]) -> Dict[str, Dict[str, float]]:\n",
    "    \"\"\"\n",
    "    Preprocess the price lists to allow for faster lookups.\n",
    "\n",
    "    Args:\n",
    "    price_lists (dict): A dictionary containing the price lists of operators.\n",
    "\n",
    "    Returns:\n",
    "    dict: A dictionary where keys are operators and values are dictionaries of prefixes and prices.\n",
    "    \"\"\"\n",
    "    preprocessed = {}\n",
    "    for operator, prices in price_lists.items():\n",
    "        preprocessed[operator] = {prefix: price for prefix, price in prices.items() if isinstance(price, (int, float)) and price >= 0}\n",
    "    return preprocessed"
   ]
  },
  {
   "cell_type": "code",
   "execution_count": 23,
   "metadata": {},
   "outputs": [],
   "source": [
    "def dict_to_json_str(d: Dict) -> str:\n",
    "    \"\"\"\n",
    "    Convert a dictionary to a JSON string.\n",
    "    \n",
    "    Args:\n",
    "    d (dict): The dictionary to convert.\n",
    "    \n",
    "    Returns:\n",
    "    str: The JSON string representation of the dictionary.\n",
    "    \"\"\"\n",
    "    return json.dumps(d, sort_keys=True)"
   ]
  },
  {
   "cell_type": "markdown",
   "metadata": {},
   "source": [
    "This function finds the cheapest operator for a given phone number by comparing the prices from different operators. It uses caching (lru_cache) to improve performance by storing the results of expensive function calls. This is especially handy if we call the function over and over and will outperform other algorytms even if there is room for logic improvements of the insides."
   ]
  },
  {
   "cell_type": "code",
   "execution_count": 24,
   "metadata": {},
   "outputs": [],
   "source": [
    "@lru_cache(maxsize=None)\n",
    "def find_cheapest_operator(phone_number: str, preprocessed_lists: str) -> Tuple[Optional[str], float]:\n",
    "    \"\"\"\n",
    "    Find the cheapest operator for a given phone number based on the preprocessed price lists.\n",
    "\n",
    "    Args:\n",
    "    phone_number (str): The phone number to find the cheapest operator for.\n",
    "    preprocessed_lists (str): A JSON string representation of the preprocessed price lists.\n",
    "\n",
    "    Returns:\n",
    "    tuple: The name of the cheapest operator and the price per minute for the given phone number.\n",
    "    \"\"\"\n",
    "    preprocessed_lists = json.loads(preprocessed_lists)\n",
    "    best_matches = {}\n",
    "\n",
    "    # Find the longest matching prefix for each operator\n",
    "    for operator, prices in preprocessed_lists.items():\n",
    "        longest_prefix = \"\"\n",
    "        best_price = float('inf')\n",
    "        for prefix, price in prices.items():\n",
    "            if phone_number.startswith(prefix):\n",
    "                if len(prefix) > len(longest_prefix) or (len(prefix) == len(longest_prefix) and price < best_price):\n",
    "                    longest_prefix = prefix\n",
    "                    best_price = price\n",
    "        if longest_prefix:\n",
    "            best_matches[operator] = (longest_prefix, best_price)\n",
    "\n",
    "    # Compare the best matches to find the cheapest option\n",
    "    cheapest_operator = None\n",
    "    cheapest_price = float('inf')\n",
    "    longest_prefix_length = 0\n",
    "\n",
    "    for operator, (prefix, price) in best_matches.items():\n",
    "        if price < cheapest_price or (price == cheapest_price and len(prefix) > longest_prefix_length):\n",
    "            cheapest_operator = operator\n",
    "            cheapest_price = price\n",
    "            longest_prefix_length = len(prefix)\n",
    "\n",
    "    return cheapest_operator, cheapest_price\n"
   ]
  },
  {
   "cell_type": "code",
   "execution_count": 25,
   "metadata": {},
   "outputs": [
    {
     "name": "stdout",
     "output_type": "stream",
     "text": [
      "Removed invalid entry from Operator A: prefix=-1, price=-0.5\n",
      "Removed invalid entry from Operator A: prefix=nan, price=nan\n",
      "Removed invalid entry from Operator B: prefix=-44, price=-0.3\n",
      "Removed invalid entry from Operator B: prefix=nan, price=nan\n"
     ]
    }
   ],
   "source": [
    "# Prepare data once for reuse\n",
    "\n",
    "cleaned_lists = clean_price_lists(price_lists)\n",
    "preprocessed_lists = preprocess_price_lists(cleaned_lists)\n",
    "preprocessed_lists_json_str = dict_to_json_str(preprocessed_lists)"
   ]
  },
  {
   "cell_type": "markdown",
   "metadata": {},
   "source": [
    "This function runs a series of tests to ensure the routing and price lookup functionality works correctly. It uses sample data, cleans and preprocesses it, and checks the results against expected values to validate the logic."
   ]
  },
  {
   "cell_type": "code",
   "execution_count": 26,
   "metadata": {},
   "outputs": [],
   "source": [
    "def run_tests():\n",
    "    \"\"\"\n",
    "    Run a series of tests to ensure the routing and price lookup functionality works correctly.\n",
    "    \"\"\"\n",
    "    # Use the test dataset from tests_dataset.py\n",
    "    price_lists = tests_dataset.price_lists\n",
    "\n",
    "    # Clean and preprocess the price lists\n",
    "    cleaned_lists = clean_price_lists(price_lists)\n",
    "    preprocessed_lists = preprocess_price_lists(cleaned_lists)\n",
    "\n",
    "    # Convert to JSON for testing purposes\n",
    "    preprocessed_lists_json_str = json.dumps(preprocessed_lists)\n",
    "\n",
    "    # Use the test cases from tests_dataset.py\n",
    "    tests = tests_dataset.tests\n",
    "\n",
    "    for test in tests:\n",
    "        operator, price = find_cheapest_operator(test['phone_number'], preprocessed_lists_json_str)\n",
    "        assert operator in test['expected_operators'], f\"Test failed for {test['phone_number']}: expected {test['expected_operators']}, got {operator}\"\n",
    "        assert price == test['expected_price'], f\"Test failed for {test['phone_number']}: expected {test['expected_price']}, got {price}\"\n",
    "    print(\"All tests passed!\")\n"
   ]
  },
  {
   "cell_type": "code",
   "execution_count": 27,
   "metadata": {},
   "outputs": [
    {
     "ename": "AssertionError",
     "evalue": "Test failed for 4681234567: expected ['Operator A'], got Operator B",
     "output_type": "error",
     "traceback": [
      "\u001b[1;31m---------------------------------------------------------------------------\u001b[0m",
      "\u001b[1;31mAssertionError\u001b[0m                            Traceback (most recent call last)",
      "Cell \u001b[1;32mIn[27], line 2\u001b[0m\n\u001b[0;32m      1\u001b[0m \u001b[38;5;28;01mif\u001b[39;00m \u001b[38;5;18m__name__\u001b[39m \u001b[38;5;241m==\u001b[39m \u001b[38;5;124m\"\u001b[39m\u001b[38;5;124m__main__\u001b[39m\u001b[38;5;124m\"\u001b[39m:\n\u001b[1;32m----> 2\u001b[0m     \u001b[43mrun_tests\u001b[49m\u001b[43m(\u001b[49m\u001b[43m)\u001b[49m\n\u001b[0;32m      3\u001b[0m     phone_number \u001b[38;5;241m=\u001b[39m \u001b[38;5;28minput\u001b[39m(\u001b[38;5;124m\"\u001b[39m\u001b[38;5;124mEnter the phone number: \u001b[39m\u001b[38;5;124m\"\u001b[39m)\n\u001b[0;32m      4\u001b[0m     operator, price \u001b[38;5;241m=\u001b[39m find_cheapest_operator(phone_number, preprocessed_lists_json_str)\n",
      "Cell \u001b[1;32mIn[26], line 20\u001b[0m, in \u001b[0;36mrun_tests\u001b[1;34m()\u001b[0m\n\u001b[0;32m     18\u001b[0m \u001b[38;5;28;01mfor\u001b[39;00m test \u001b[38;5;129;01min\u001b[39;00m tests:\n\u001b[0;32m     19\u001b[0m     operator, price \u001b[38;5;241m=\u001b[39m find_cheapest_operator(test[\u001b[38;5;124m'\u001b[39m\u001b[38;5;124mphone_number\u001b[39m\u001b[38;5;124m'\u001b[39m], preprocessed_lists_json_str)\n\u001b[1;32m---> 20\u001b[0m     \u001b[38;5;28;01massert\u001b[39;00m operator \u001b[38;5;129;01min\u001b[39;00m test[\u001b[38;5;124m'\u001b[39m\u001b[38;5;124mexpected_operators\u001b[39m\u001b[38;5;124m'\u001b[39m], \u001b[38;5;124mf\u001b[39m\u001b[38;5;124m\"\u001b[39m\u001b[38;5;124mTest failed for \u001b[39m\u001b[38;5;132;01m{\u001b[39;00mtest[\u001b[38;5;124m'\u001b[39m\u001b[38;5;124mphone_number\u001b[39m\u001b[38;5;124m'\u001b[39m]\u001b[38;5;132;01m}\u001b[39;00m\u001b[38;5;124m: expected \u001b[39m\u001b[38;5;132;01m{\u001b[39;00mtest[\u001b[38;5;124m'\u001b[39m\u001b[38;5;124mexpected_operators\u001b[39m\u001b[38;5;124m'\u001b[39m]\u001b[38;5;132;01m}\u001b[39;00m\u001b[38;5;124m, got \u001b[39m\u001b[38;5;132;01m{\u001b[39;00moperator\u001b[38;5;132;01m}\u001b[39;00m\u001b[38;5;124m\"\u001b[39m\n\u001b[0;32m     21\u001b[0m     \u001b[38;5;28;01massert\u001b[39;00m price \u001b[38;5;241m==\u001b[39m test[\u001b[38;5;124m'\u001b[39m\u001b[38;5;124mexpected_price\u001b[39m\u001b[38;5;124m'\u001b[39m], \u001b[38;5;124mf\u001b[39m\u001b[38;5;124m\"\u001b[39m\u001b[38;5;124mTest failed for \u001b[39m\u001b[38;5;132;01m{\u001b[39;00mtest[\u001b[38;5;124m'\u001b[39m\u001b[38;5;124mphone_number\u001b[39m\u001b[38;5;124m'\u001b[39m]\u001b[38;5;132;01m}\u001b[39;00m\u001b[38;5;124m: expected \u001b[39m\u001b[38;5;132;01m{\u001b[39;00mtest[\u001b[38;5;124m'\u001b[39m\u001b[38;5;124mexpected_price\u001b[39m\u001b[38;5;124m'\u001b[39m]\u001b[38;5;132;01m}\u001b[39;00m\u001b[38;5;124m, got \u001b[39m\u001b[38;5;132;01m{\u001b[39;00mprice\u001b[38;5;132;01m}\u001b[39;00m\u001b[38;5;124m\"\u001b[39m\n\u001b[0;32m     22\u001b[0m \u001b[38;5;28mprint\u001b[39m(\u001b[38;5;124m\"\u001b[39m\u001b[38;5;124mAll tests passed!\u001b[39m\u001b[38;5;124m\"\u001b[39m)\n",
      "\u001b[1;31mAssertionError\u001b[0m: Test failed for 4681234567: expected ['Operator A'], got Operator B"
     ]
    }
   ],
   "source": [
    "if __name__ == \"__main__\":\n",
    "    run_tests()\n",
    "    phone_number = input(\"Enter the phone number: \")\n",
    "    operator, price = find_cheapest_operator(phone_number, preprocessed_lists_json_str)\n",
    "    if operator:\n",
    "        print(f\"The cheapest operator is {operator} with a price of ${price}/min.\")\n",
    "    else:\n",
    "        print(\"No operator available for this phone number.\")"
   ]
  },
  {
   "cell_type": "code",
   "execution_count": null,
   "metadata": {},
   "outputs": [],
   "source": [
    "# Code below is responsible for recompiling the compiled Py code.\n",
    "\n",
    "# !jupyter nbconvert --to script telephone_routing.ipynb"
   ]
  }
 ],
 "metadata": {
  "kernelspec": {
   "display_name": "Python 3",
   "language": "python",
   "name": "python3"
  },
  "language_info": {
   "codemirror_mode": {
    "name": "ipython",
    "version": 3
   },
   "file_extension": ".py",
   "mimetype": "text/x-python",
   "name": "python",
   "nbconvert_exporter": "python",
   "pygments_lexer": "ipython3",
   "version": "3.9.9"
  }
 },
 "nbformat": 4,
 "nbformat_minor": 2
}
