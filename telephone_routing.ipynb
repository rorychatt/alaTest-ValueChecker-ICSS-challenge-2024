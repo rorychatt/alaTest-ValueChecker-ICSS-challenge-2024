{
 "cells": [
  {
   "cell_type": "code",
   "execution_count": 1,
   "metadata": {},
   "outputs": [],
   "source": [
    "# Import necessary libraries, install them if needed\n",
    "# For compiling, you will need Jupyter pip package installed.\n",
    "\n",
    "from sample_data import price_lists\n",
    "from typing import Dict, Tuple, Optional\n",
    "from functools import lru_cache\n",
    "import json"
   ]
  },
  {
   "cell_type": "code",
   "execution_count": 2,
   "metadata": {},
   "outputs": [],
   "source": [
    "def clean_price_lists(price_lists: Dict[str, Dict[str, float]]) -> Dict[str, Dict[str, float]]:\n",
    "    \"\"\"\n",
    "    Clean the price lists by removing any corrupt data entries.\n",
    "    \n",
    "    Args:\n",
    "    price_lists (dict): A dictionary containing the price lists of operators.\n",
    "    \n",
    "    Returns:\n",
    "    dict: A cleaned dictionary with valid price entries.\n",
    "    \"\"\"\n",
    "    cleaned_lists = {}\n",
    "    for operator, prices in price_lists.items():\n",
    "        cleaned_prices = {}\n",
    "        for prefix, price in prices.items():\n",
    "            if isinstance(price, (int, float)) and price >= 0 and prefix.replace('.', '', 1).isdigit():\n",
    "                cleaned_prices[prefix] = price\n",
    "            else:\n",
    "                print(f\"Removed invalid entry from {operator}: prefix={prefix}, price={price}\")\n",
    "        cleaned_lists[operator] = cleaned_prices\n",
    "    return cleaned_lists"
   ]
  },
  {
   "cell_type": "code",
   "execution_count": 3,
   "metadata": {},
   "outputs": [],
   "source": [
    "def preprocess_price_lists(price_lists: Dict[str, Dict[str, float]]) -> Dict[str, Dict[str, float]]:\n",
    "    \"\"\"\n",
    "    Preprocess the price lists to allow for faster lookups.\n",
    "\n",
    "    Args:\n",
    "    price_lists (dict): A dictionary containing the price lists of operators.\n",
    "\n",
    "    Returns:\n",
    "    dict: A dictionary where keys are operators and values are dictionaries of prefixes and prices.\n",
    "    \"\"\"\n",
    "    preprocessed = {}\n",
    "    for operator, prices in price_lists.items():\n",
    "        preprocessed[operator] = {prefix: price for prefix, price in prices.items() if isinstance(price, (int, float)) and price >= 0}\n",
    "    return preprocessed"
   ]
  },
  {
   "cell_type": "code",
   "execution_count": 4,
   "metadata": {},
   "outputs": [],
   "source": [
    "def dict_to_json_str(d: Dict) -> str:\n",
    "    \"\"\"\n",
    "    Convert a dictionary to a JSON string.\n",
    "    \n",
    "    Args:\n",
    "    d (dict): The dictionary to convert.\n",
    "    \n",
    "    Returns:\n",
    "    str: The JSON string representation of the dictionary.\n",
    "    \"\"\"\n",
    "    return json.dumps(d, sort_keys=True)"
   ]
  },
  {
   "cell_type": "code",
   "execution_count": 5,
   "metadata": {},
   "outputs": [],
   "source": [
    "@lru_cache(maxsize=None)\n",
    "def find_cheapest_operator(phone_number: str, preprocessed_lists: str) -> Tuple[Optional[str], float]:\n",
    "    \"\"\"\n",
    "    Find the cheapest operator for a given phone number based on the preprocessed price lists.\n",
    "\n",
    "    Args:\n",
    "    phone_number (str): The phone number to find the cheapest operator for.\n",
    "    preprocessed_lists (str): A JSON string representation of the preprocessed price lists.\n",
    "\n",
    "    Returns:\n",
    "    tuple: The name of the cheapest operator and the price per minute for the given phone number.\n",
    "    \"\"\"\n",
    "    preprocessed_lists = json.loads(preprocessed_lists)\n",
    "    best_matches = {}\n",
    "\n",
    "    # Find the longest matching prefix for each operator\n",
    "    for operator, prices in preprocessed_lists.items():\n",
    "        longest_prefix = \"\"\n",
    "        best_price = float('inf')\n",
    "        for prefix, price in prices.items():\n",
    "            if phone_number.startswith(prefix):\n",
    "                if len(prefix) > len(longest_prefix) or (len(prefix) == len(longest_prefix) and price < best_price):\n",
    "                    longest_prefix = prefix\n",
    "                    best_price = price\n",
    "        if longest_prefix:\n",
    "            best_matches[operator] = (longest_prefix, best_price)\n",
    "\n",
    "    # Compare the best matches to find the cheapest option\n",
    "    cheapest_operator = None\n",
    "    cheapest_price = float('inf')\n",
    "    longest_prefix_length = 0\n",
    "\n",
    "    for operator, (prefix, price) in best_matches.items():\n",
    "        if price < cheapest_price or (price == cheapest_price and len(prefix) > longest_prefix_length):\n",
    "            cheapest_operator = operator\n",
    "            cheapest_price = price\n",
    "            longest_prefix_length = len(prefix)\n",
    "\n",
    "    return cheapest_operator, cheapest_price\n"
   ]
  },
  {
   "cell_type": "code",
   "execution_count": 6,
   "metadata": {},
   "outputs": [
    {
     "name": "stdout",
     "output_type": "stream",
     "text": [
      "Removed invalid entry from Operator A: prefix=-1, price=-0.5\n",
      "Removed invalid entry from Operator A: prefix=nan, price=nan\n",
      "Removed invalid entry from Operator B: prefix=-44, price=-0.3\n",
      "Removed invalid entry from Operator B: prefix=nan, price=nan\n"
     ]
    }
   ],
   "source": [
    "# Prepare data once for reuse\n",
    "\n",
    "cleaned_lists = clean_price_lists(price_lists)\n",
    "preprocessed_lists = preprocess_price_lists(cleaned_lists)\n",
    "preprocessed_lists_json_str = dict_to_json_str(preprocessed_lists)"
   ]
  },
  {
   "cell_type": "code",
   "execution_count": 7,
   "metadata": {},
   "outputs": [],
   "source": [
    "def run_tests() -> None:\n",
    "    \"\"\"\n",
    "    Run unit tests to verify the correctness of the find_cheapest_operator function.\n",
    "    \"\"\"\n",
    "    tests = [\n",
    "        {'phone_number': '4673212345', 'expected_operators': ['Operator A', 'Operator B'], 'expected_price': 1.1},\n",
    "        {'phone_number': '4681234567', 'expected_operators': ['Operator A'], 'expected_price': 0.15},\n",
    "        {'phone_number': '4631123456', 'expected_operators': ['Operator B'], 'expected_price': 0.14},\n",
    "        {'phone_number': '4412345678', 'expected_operators': ['Operator B'], 'expected_price': 0.5},\n",
    "        {'phone_number': '4812345678', 'expected_operators': ['Operator B'], 'expected_price': 1.2},\n",
    "        {'phone_number': '2681234567', 'expected_operators': ['Operator A'], 'expected_price': 5.1},\n",
    "        {'phone_number': '1234567890', 'expected_operators': ['Operator A'], 'expected_price': 0.9},\n",
    "        {'phone_number': '467', 'expected_operators': ['Operator A'], 'expected_price': 0.21},\n",
    "        {'phone_number': '46', 'expected_operators': ['Operator A'], 'expected_price': 0.21},\n",
    "    ]\n",
    "\n",
    "    for test in tests:\n",
    "        operator, price = find_cheapest_operator(test['phone_number'], preprocessed_lists_json_str)\n",
    "        assert operator in test['expected_operators'], f\"Test failed for {test['phone_number']}: expected {test['expected_operators']}, got {operator}\"\n",
    "        assert price == test['expected_price'], f\"Test failed for {test['phone_number']}: expected {test['expected_price']}, got {price}\"\n",
    "    print(\"All tests passed!\")"
   ]
  },
  {
   "cell_type": "code",
   "execution_count": 8,
   "metadata": {},
   "outputs": [
    {
     "name": "stdout",
     "output_type": "stream",
     "text": [
      "All tests passed!\n",
      "The cheapest operator is Operator A with a price of $0.21/min.\n"
     ]
    }
   ],
   "source": [
    "if __name__ == \"__main__\":\n",
    "    run_tests()\n",
    "    phone_number = input(\"Enter the phone number: \")\n",
    "    operator, price = find_cheapest_operator(phone_number, preprocessed_lists_json_str)\n",
    "    if operator:\n",
    "        print(f\"The cheapest operator is {operator} with a price of ${price}/min.\")\n",
    "    else:\n",
    "        print(\"No operator available for this phone number.\")"
   ]
  },
  {
   "cell_type": "code",
   "execution_count": 10,
   "metadata": {},
   "outputs": [
    {
     "name": "stderr",
     "output_type": "stream",
     "text": [
      "[NbConvertApp] Converting notebook telephone_routing.ipynb to script\n",
      "[NbConvertApp] Writing 5909 bytes to telephone_routing.py\n"
     ]
    }
   ],
   "source": [
    "# Code below is responsible for recompiling the compiled Py code.\n",
    "\n",
    "# !jupyter nbconvert --to script telephone_routing.ipynb"
   ]
  }
 ],
 "metadata": {
  "kernelspec": {
   "display_name": "Python 3",
   "language": "python",
   "name": "python3"
  },
  "language_info": {
   "codemirror_mode": {
    "name": "ipython",
    "version": 3
   },
   "file_extension": ".py",
   "mimetype": "text/x-python",
   "name": "python",
   "nbconvert_exporter": "python",
   "pygments_lexer": "ipython3",
   "version": "3.9.9"
  }
 },
 "nbformat": 4,
 "nbformat_minor": 2
}
